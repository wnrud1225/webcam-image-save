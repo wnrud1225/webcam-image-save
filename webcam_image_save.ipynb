{
  "nbformat": 4,
  "nbformat_minor": 0,
  "metadata": {
    "colab": {
      "provenance": [],
      "authorship_tag": "ABX9TyPKFen1ppRZ1hnW+k9TnQdc",
      "include_colab_link": true
    },
    "kernelspec": {
      "name": "python3",
      "display_name": "Python 3"
    },
    "language_info": {
      "name": "python"
    }
  },
  "cells": [
    {
      "cell_type": "markdown",
      "metadata": {
        "id": "view-in-github",
        "colab_type": "text"
      },
      "source": [
        "<a href=\"https://colab.research.google.com/github/wnrud1225/webcam-image-save/blob/main/webcam_image_save.ipynb\" target=\"_parent\"><img src=\"https://colab.research.google.com/assets/colab-badge.svg\" alt=\"Open In Colab\"/></a>"
      ]
    },
    {
      "cell_type": "code",
      "execution_count": null,
      "metadata": {
        "id": "QDbRvEf-JRhd"
      },
      "outputs": [],
      "source": [
        "from datetime import date, datetime\n",
        "from torchvision import models\n",
        "import torch\n",
        "import torch.nn as nn\n",
        "from math import floor\n",
        "import cv2\n",
        "import numpy as np\n",
        "import os\n",
        "import torchvision.transforms as transforms\n",
        "webcam = cv2.VideoCapture(0)\n",
        "\n",
        "print(webcam)\n",
        "if not webcam.isOpened():\n",
        "    print(\"Could not open webcam\")\n",
        "    exit()\n",
        "\n",
        "captureTime = 0\n",
        "# Model\n",
        "def import_model():\n",
        "    model = models.efficientnet_b3(weights=models.EfficientNet_B3_Weights.DEFAULT)  \n",
        "    model.classifier[1] = nn.Linear(1536, 4)\n",
        "    return model\n",
        "model = import_model()\n",
        "print(model)\n",
        "model.load_state_dict(torch.load('best_model.pth'))\n",
        "model.eval()\n",
        "transform = transforms.Compose([\n",
        "    transforms.ToTensor(),\n",
        "    transforms.Resize((224, 224))\n",
        "])\n",
        "while webcam.isOpened():\n",
        "    status, frame = webcam.read()\n",
        "    if status:\n",
        "        img = frame\n",
        "        if captureTime + 0.08 > datetime.now().timestamp():\n",
        "            white = np.zeros_like(frame, dtype=np.uint8)\n",
        "            white.fill(255)\n",
        "            img = cv2.addWeighted(frame, 1, white, 0.1, 1)\n",
        "        cv2.imshow(\"test\", img)\n",
        "        img = transform(img).unsqueeze(0)\n",
        "        predicted = model(img)\n",
        "        prediction = torch.argmax(predicted)\n",
        "        if prediction ==0:\n",
        "            out = 'stop'\n",
        "        if prediction ==1:\n",
        "            out = 'next'\n",
        "        if prediction ==2:\n",
        "            out = 'down'\n",
        "        if prediction ==3:\n",
        "            out = 'none'\n",
        "        print(out)\n",
        "\n",
        "    if cv2.waitKey(1) == ord('c'):\n",
        "        save_name = os.path.join('data/test/0', f'capture_{floor(datetime.now().timestamp())}.png' )\n",
        "        captured = cv2.imwrite(save_name, frame)\n",
        "        captureTime = datetime.now().timestamp()\n",
        "        print(f\"Saved {save_name}\")\n",
        "    if cv2.waitKey(1) & 0xFF == ord('q'):\n",
        "        break\n",
        "\n",
        "webcam.release()\n",
        "cv2.destroyAllWindows()"
      ]
    }
  ]
}